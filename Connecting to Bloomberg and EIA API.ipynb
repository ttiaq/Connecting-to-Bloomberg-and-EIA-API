{
 "cells": [
  {
   "cell_type": "markdown",
   "id": "b14664fc",
   "metadata": {},
   "source": [
    "This code is used to connect to Bloomberg and pull historical prices and future strip data."
   ]
  },
  {
   "cell_type": "markdown",
   "id": "1374a717",
   "metadata": {},
   "source": [
    "## Oil Historical Prices"
   ]
  },
  {
   "cell_type": "code",
   "execution_count": 1,
   "id": "19da2fe5",
   "metadata": {},
   "outputs": [],
   "source": [
    "#import libraries\n",
    "import pandas as pd\n",
    "from xbbg import blp\n",
    "\n",
    "#define tickers\n",
    "headers = {'CL1 Comdty':'WTI (USD/bbl)', 'USCRWCAS Index':'WCS (USD/bbl)', 'CO1 Comdty':'Brent (USD/bbl)', 'LSW1 Index':'CLS Diff.(USD/bbl)', 'USCRECON Index':'Condensate (USD/bbl)', 'CADUSD Curncy':'Exchange Rate (CAD/USD)'}\n",
    "tickers = ['CL1 Comdty', 'USCRWCAS Index', 'CO1 Comdty', 'LSW1 Index', 'USCRECON Index', 'CADUSD Curncy']\n",
    "\n",
    "#define start and end dates\n",
    "start_date = '20140101'\n",
    "end_date = '20211031'\n",
    "\n",
    "#pull date into a dataframe\n",
    "df_oil_hist = blp.bdh(tickers, 'Px_Last', start_date, end_date)\n",
    "df_oil_hist.rename(columns=headers, inplace=True)"
   ]
  },
  {
   "cell_type": "code",
   "execution_count": 2,
   "id": "5e408f08",
   "metadata": {
    "scrolled": true
   },
   "outputs": [
    {
     "data": {
      "text/html": [
       "<div>\n",
       "<style scoped>\n",
       "    .dataframe tbody tr th:only-of-type {\n",
       "        vertical-align: middle;\n",
       "    }\n",
       "\n",
       "    .dataframe tbody tr th {\n",
       "        vertical-align: top;\n",
       "    }\n",
       "\n",
       "    .dataframe thead th {\n",
       "        text-align: right;\n",
       "    }\n",
       "</style>\n",
       "<table border=\"1\" class=\"dataframe\">\n",
       "  <thead>\n",
       "    <tr style=\"text-align: right;\">\n",
       "      <th></th>\n",
       "      <th>WTI (USD/bbl)</th>\n",
       "      <th>WCS (USD/bbl)</th>\n",
       "      <th>Brent (USD/bbl)</th>\n",
       "      <th>CLS Diff.(USD/bbl)</th>\n",
       "      <th>Condensate (USD/bbl)</th>\n",
       "      <th>Exchange Rate (CAD/USD)</th>\n",
       "      <th>Canadian Light Sweet (CAD/bbl)</th>\n",
       "      <th>WCS (CAD/bbl)</th>\n",
       "    </tr>\n",
       "  </thead>\n",
       "  <tbody>\n",
       "    <tr>\n",
       "      <th>2021-10-25</th>\n",
       "      <td>83.76</td>\n",
       "      <td>67.80</td>\n",
       "      <td>85.99</td>\n",
       "      <td>-3.10</td>\n",
       "      <td>86.80</td>\n",
       "      <td>0.8074</td>\n",
       "      <td>99.90</td>\n",
       "      <td>83.97</td>\n",
       "    </tr>\n",
       "    <tr>\n",
       "      <th>2021-10-26</th>\n",
       "      <td>84.65</td>\n",
       "      <td>68.85</td>\n",
       "      <td>86.40</td>\n",
       "      <td>-3.25</td>\n",
       "      <td>87.85</td>\n",
       "      <td>0.8071</td>\n",
       "      <td>100.85</td>\n",
       "      <td>85.31</td>\n",
       "    </tr>\n",
       "    <tr>\n",
       "      <th>2021-10-27</th>\n",
       "      <td>82.66</td>\n",
       "      <td>65.98</td>\n",
       "      <td>84.58</td>\n",
       "      <td>-3.05</td>\n",
       "      <td>85.48</td>\n",
       "      <td>0.8090</td>\n",
       "      <td>98.41</td>\n",
       "      <td>81.56</td>\n",
       "    </tr>\n",
       "    <tr>\n",
       "      <th>2021-10-28</th>\n",
       "      <td>82.81</td>\n",
       "      <td>67.36</td>\n",
       "      <td>84.32</td>\n",
       "      <td>-3.15</td>\n",
       "      <td>85.11</td>\n",
       "      <td>0.8100</td>\n",
       "      <td>98.35</td>\n",
       "      <td>83.16</td>\n",
       "    </tr>\n",
       "    <tr>\n",
       "      <th>2021-10-29</th>\n",
       "      <td>83.57</td>\n",
       "      <td>67.86</td>\n",
       "      <td>84.38</td>\n",
       "      <td>-3.15</td>\n",
       "      <td>85.31</td>\n",
       "      <td>0.8073</td>\n",
       "      <td>99.62</td>\n",
       "      <td>84.06</td>\n",
       "    </tr>\n",
       "  </tbody>\n",
       "</table>\n",
       "</div>"
      ],
      "text/plain": [
       "            WTI (USD/bbl)  WCS (USD/bbl)  Brent (USD/bbl)  CLS Diff.(USD/bbl)  \\\n",
       "2021-10-25          83.76          67.80            85.99               -3.10   \n",
       "2021-10-26          84.65          68.85            86.40               -3.25   \n",
       "2021-10-27          82.66          65.98            84.58               -3.05   \n",
       "2021-10-28          82.81          67.36            84.32               -3.15   \n",
       "2021-10-29          83.57          67.86            84.38               -3.15   \n",
       "\n",
       "            Condensate (USD/bbl)  Exchange Rate (CAD/USD)  \\\n",
       "2021-10-25                 86.80                   0.8074   \n",
       "2021-10-26                 87.85                   0.8071   \n",
       "2021-10-27                 85.48                   0.8090   \n",
       "2021-10-28                 85.11                   0.8100   \n",
       "2021-10-29                 85.31                   0.8073   \n",
       "\n",
       "            Canadian Light Sweet (CAD/bbl)  WCS (CAD/bbl)  \n",
       "2021-10-25                           99.90          83.97  \n",
       "2021-10-26                          100.85          85.31  \n",
       "2021-10-27                           98.41          81.56  \n",
       "2021-10-28                           98.35          83.16  \n",
       "2021-10-29                           99.62          84.06  "
      ]
     },
     "execution_count": 2,
     "metadata": {},
     "output_type": "execute_result"
    }
   ],
   "source": [
    "#calc CLS\n",
    "df_oil_hist['Canadian Light Sweet (CAD/bbl)'] = (df_oil_hist['WTI (USD/bbl)']/df_oil_hist['Exchange Rate (CAD/USD)']+df_oil_hist['CLS Diff.(USD/bbl)']/df_oil_hist['Exchange Rate (CAD/USD)']).round(2)\n",
    "\n",
    "#calc WCS\n",
    "df_oil_hist['WCS (CAD/bbl)'] = (df_oil_hist['WCS (USD/bbl)']/df_oil_hist['Exchange Rate (CAD/USD)']).round(2)\n",
    "\n",
    "#cleanup header\n",
    "df_oil_hist.columns = df_oil_hist.columns.droplevel(-1)\n",
    "\n",
    "#Excel Output\n",
    "df_oil_hist.to_excel('Oil History_Daily.xlsx', sheet_name='Daily Oil', float_format='%.2f')\n",
    "\n",
    "#visual check\n",
    "df_oil_hist.tail(5)"
   ]
  },
  {
   "cell_type": "markdown",
   "id": "65fbb394",
   "metadata": {},
   "source": [
    "## Gas Historical Prices"
   ]
  },
  {
   "cell_type": "code",
   "execution_count": 3,
   "id": "e4eb4d0a",
   "metadata": {},
   "outputs": [
    {
     "data": {
      "text/html": [
       "<div>\n",
       "<style scoped>\n",
       "    .dataframe tbody tr th:only-of-type {\n",
       "        vertical-align: middle;\n",
       "    }\n",
       "\n",
       "    .dataframe tbody tr th {\n",
       "        vertical-align: top;\n",
       "    }\n",
       "\n",
       "    .dataframe thead th {\n",
       "        text-align: right;\n",
       "    }\n",
       "</style>\n",
       "<table border=\"1\" class=\"dataframe\">\n",
       "  <thead>\n",
       "    <tr style=\"text-align: right;\">\n",
       "      <th></th>\n",
       "      <th>Henry Hub (USD/MMbtu)</th>\n",
       "      <th>AECO (CAD/GJ)</th>\n",
       "      <th>BC Westcoast Station 2 (USD/MMbtu)</th>\n",
       "      <th>NBP (GBP/therm)</th>\n",
       "      <th>TTF (USD/MMbtu)</th>\n",
       "      <th>JKM (USD/MMbtu)</th>\n",
       "      <th>Exchange Rate (GBP/USD)</th>\n",
       "      <th>Exchange Rate (CAD/USD)</th>\n",
       "      <th>Western Canada NG Storage (bcf)</th>\n",
       "      <th>AECO (CAD/MMbtu)</th>\n",
       "      <th>AECO (USD/MMbtu)</th>\n",
       "      <th>BC Westcoast Station 2 (CAD/MMbtu)</th>\n",
       "      <th>NBP (USD/MMbtu)</th>\n",
       "    </tr>\n",
       "  </thead>\n",
       "  <tbody>\n",
       "    <tr>\n",
       "      <th>2021-10-25</th>\n",
       "      <td>5.898</td>\n",
       "      <td>5.12</td>\n",
       "      <td>3.92</td>\n",
       "      <td>223.23</td>\n",
       "      <td>31.802</td>\n",
       "      <td>33.575</td>\n",
       "      <td>1.3767</td>\n",
       "      <td>0.8074</td>\n",
       "      <td>NaN</td>\n",
       "      <td>5.399629</td>\n",
       "      <td>4.359660</td>\n",
       "      <td>4.855090</td>\n",
       "      <td>30.73</td>\n",
       "    </tr>\n",
       "    <tr>\n",
       "      <th>2021-10-26</th>\n",
       "      <td>5.882</td>\n",
       "      <td>5.09</td>\n",
       "      <td>1.66</td>\n",
       "      <td>221.59</td>\n",
       "      <td>31.787</td>\n",
       "      <td>34.205</td>\n",
       "      <td>1.3767</td>\n",
       "      <td>0.8071</td>\n",
       "      <td>NaN</td>\n",
       "      <td>5.367990</td>\n",
       "      <td>4.332505</td>\n",
       "      <td>2.056746</td>\n",
       "      <td>30.51</td>\n",
       "    </tr>\n",
       "    <tr>\n",
       "      <th>2021-10-27</th>\n",
       "      <td>6.202</td>\n",
       "      <td>6.18</td>\n",
       "      <td>0.28</td>\n",
       "      <td>218.59</td>\n",
       "      <td>31.734</td>\n",
       "      <td>33.905</td>\n",
       "      <td>1.3745</td>\n",
       "      <td>0.8090</td>\n",
       "      <td>NaN</td>\n",
       "      <td>6.517521</td>\n",
       "      <td>5.272674</td>\n",
       "      <td>0.346106</td>\n",
       "      <td>30.05</td>\n",
       "    </tr>\n",
       "    <tr>\n",
       "      <th>2021-10-28</th>\n",
       "      <td>5.782</td>\n",
       "      <td>5.94</td>\n",
       "      <td>1.93</td>\n",
       "      <td>192.09</td>\n",
       "      <td>31.584</td>\n",
       "      <td>32.010</td>\n",
       "      <td>1.3790</td>\n",
       "      <td>0.8100</td>\n",
       "      <td>NaN</td>\n",
       "      <td>6.264413</td>\n",
       "      <td>5.074175</td>\n",
       "      <td>2.382716</td>\n",
       "      <td>26.49</td>\n",
       "    </tr>\n",
       "    <tr>\n",
       "      <th>2021-10-29</th>\n",
       "      <td>5.426</td>\n",
       "      <td>5.64</td>\n",
       "      <td>4.66</td>\n",
       "      <td>165.98</td>\n",
       "      <td>21.999</td>\n",
       "      <td>30.000</td>\n",
       "      <td>1.3682</td>\n",
       "      <td>0.8073</td>\n",
       "      <td>411.53</td>\n",
       "      <td>5.948029</td>\n",
       "      <td>4.801843</td>\n",
       "      <td>5.772328</td>\n",
       "      <td>22.71</td>\n",
       "    </tr>\n",
       "  </tbody>\n",
       "</table>\n",
       "</div>"
      ],
      "text/plain": [
       "            Henry Hub (USD/MMbtu)  AECO (CAD/GJ)  \\\n",
       "2021-10-25                  5.898           5.12   \n",
       "2021-10-26                  5.882           5.09   \n",
       "2021-10-27                  6.202           6.18   \n",
       "2021-10-28                  5.782           5.94   \n",
       "2021-10-29                  5.426           5.64   \n",
       "\n",
       "            BC Westcoast Station 2 (USD/MMbtu)  NBP (GBP/therm)  \\\n",
       "2021-10-25                                3.92           223.23   \n",
       "2021-10-26                                1.66           221.59   \n",
       "2021-10-27                                0.28           218.59   \n",
       "2021-10-28                                1.93           192.09   \n",
       "2021-10-29                                4.66           165.98   \n",
       "\n",
       "            TTF (USD/MMbtu)  JKM (USD/MMbtu)  Exchange Rate (GBP/USD)  \\\n",
       "2021-10-25           31.802           33.575                   1.3767   \n",
       "2021-10-26           31.787           34.205                   1.3767   \n",
       "2021-10-27           31.734           33.905                   1.3745   \n",
       "2021-10-28           31.584           32.010                   1.3790   \n",
       "2021-10-29           21.999           30.000                   1.3682   \n",
       "\n",
       "            Exchange Rate (CAD/USD)  Western Canada NG Storage (bcf)  \\\n",
       "2021-10-25                   0.8074                              NaN   \n",
       "2021-10-26                   0.8071                              NaN   \n",
       "2021-10-27                   0.8090                              NaN   \n",
       "2021-10-28                   0.8100                              NaN   \n",
       "2021-10-29                   0.8073                           411.53   \n",
       "\n",
       "            AECO (CAD/MMbtu)  AECO (USD/MMbtu)  \\\n",
       "2021-10-25          5.399629          4.359660   \n",
       "2021-10-26          5.367990          4.332505   \n",
       "2021-10-27          6.517521          5.272674   \n",
       "2021-10-28          6.264413          5.074175   \n",
       "2021-10-29          5.948029          4.801843   \n",
       "\n",
       "            BC Westcoast Station 2 (CAD/MMbtu)  NBP (USD/MMbtu)  \n",
       "2021-10-25                            4.855090            30.73  \n",
       "2021-10-26                            2.056746            30.51  \n",
       "2021-10-27                            0.346106            30.05  \n",
       "2021-10-28                            2.382716            26.49  \n",
       "2021-10-29                            5.772328            22.71  "
      ]
     },
     "execution_count": 3,
     "metadata": {},
     "output_type": "execute_result"
    }
   ],
   "source": [
    "#define tickers\n",
    "headers_gas = {'NG1 Comdty':'Henry Hub (USD/MMbtu)', 'NGCDAECO Index':'AECO (CAD/GJ)', 'NGCAWEST Index':'BC Westcoast Station 2 (USD/MMbtu)', 'FN1 Comdty':'NBP (GBP/therm)', 'TMR1 Comdty':'TTF (USD/MMbtu)','jkl1 Comdty':'JKM (USD/MMbtu)', 'GBPUSD Curncy':'Exchange Rate (GBP/USD)', 'CADUSD Curncy':'Exchange Rate (CAD/USD)', 'NEFCWSTF Index':'Western Canada NG Storage (bcf)'}\n",
    "tickers_gas = ['NG1 Comdty', 'NGCDAECO Index', 'NGCAWEST Index', 'FN1 Comdty','TMR1 Comdty', 'jkl1 Comdty', 'GBPUSD Curncy', 'CADUSD Curncy', 'NEFCWSTF Index']\n",
    "               \n",
    "#pull date into a dataframe\n",
    "df_gas_hist = blp.bdh(tickers_gas, 'Px_Last', start_date, end_date)\n",
    "df_gas_hist.rename(columns=headers_gas, inplace=True)\n",
    "\n",
    "#convert AECO price from GJ to MMbtu\n",
    "gj_mmbtu_conv = 1.054615\n",
    "df_gas_hist['AECO (CAD/MMbtu)'] = (df_gas_hist['AECO (CAD/GJ)'] * gj_mmbtu_conv)\n",
    "df_gas_hist['AECO (USD/MMbtu)'] = (df_gas_hist['AECO (CAD/GJ)'] * gj_mmbtu_conv) * df_gas_hist['Exchange Rate (CAD/USD)']\n",
    "\n",
    "#convert BC Stn2 price from USD to CAD\n",
    "df_gas_hist['BC Westcoast Station 2 (CAD/MMbtu)'] = (df_gas_hist['BC Westcoast Station 2 (USD/MMbtu)'] / df_gas_hist['Exchange Rate (CAD/USD)'])\n",
    "\n",
    "#convert GBP/therm to USD/MMbtu\n",
    "therm_mmbtu_conv = 0.1\n",
    "df_gas_hist['NBP (USD/MMbtu)'] = (df_gas_hist['NBP (GBP/therm)'] * therm_mmbtu_conv * df_gas_hist['Exchange Rate (GBP/USD)']).round(2)\n",
    "\n",
    "#cleanup header\n",
    "df_gas_hist.columns = df_gas_hist.columns.droplevel(-1)\n",
    "\n",
    "#Excel Output\n",
    "df_gas_hist.to_excel('Gas History_Daily.xlsx', sheet_name='Daily Gas')\n",
    "\n",
    "df_gas_hist.tail(5)"
   ]
  },
  {
   "cell_type": "markdown",
   "id": "e5504a61",
   "metadata": {},
   "source": [
    "## NGL Historical Prices"
   ]
  },
  {
   "cell_type": "code",
   "execution_count": 4,
   "id": "4a5b5ce2",
   "metadata": {},
   "outputs": [],
   "source": [
    "#define tickers\n",
    "headers = {'LPGSEDPP Index':'Propane at Edmonton (USD/gal)','LPGSEDMB Index': 'Butane at Edmonton (USD/gal)', 'USCRECON Index':'Condensate at Edmonton (USD/bbl)', \n",
    "           'LPGSCWPP Index':'Propane at Conway (US cents/gal)', 'LPGSCWNB Index':'Butane at Conway (US cents/gal)', \n",
    "           'LPGSMBPP Index':'Propane at Mont Belvieu (US cents/gal)', 'LPGSMBNB Index':'Butane at Mont Belvieu (US cents/gal)',\n",
    "           'CADUSD Curncy':'Exchange Rate (CAD/USD)'}\n",
    "tickers = ['LPGSEDPP Index', 'LPGSEDMB Index', 'USCRECON Index', 'LPGSCWPP Index', 'LPGSCWNB Index', 'LPGSMBPP Index', 'LPGSMBNB Index', 'CADUSD Curncy']\n",
    "\n",
    "#pull date into a dataframe\n",
    "df_ngl_hist = blp.bdh(tickers, 'Px_Last', start_date, end_date)\n",
    "df_ngl_hist.rename(columns=headers, inplace=True)\n",
    "\n",
    "#convert from US cents/gal to USD/bbl\n",
    "gal_bbl_conv = 42\n",
    "\n",
    "##Edmonton\n",
    "df_ngl_hist['Propane at Edmonton (CAD/bbl)'] = df_ngl_hist['Propane at Edmonton (USD/gal)'] / df_ngl_hist['Exchange Rate (CAD/USD)'] * gal_bbl_conv * 0.01\n",
    "df_ngl_hist['Butane at Edmonton (CAD/bbl)'] = df_ngl_hist['Butane at Edmonton (USD/gal)'] / df_ngl_hist['Exchange Rate (CAD/USD)'] * gal_bbl_conv * 0.01\n",
    "\n",
    "##Conway\n",
    "df_ngl_hist['Propane at Conway (USD/bbl)'] = df_ngl_hist['Propane at Conway (US cents/gal)'] * gal_bbl_conv * 0.01\n",
    "df_ngl_hist['Butane at Conway (USD/bbl)'] = df_ngl_hist['Butane at Conway (US cents/gal)'] * gal_bbl_conv * 0.01\n",
    "\n",
    "##Mont Belvieu\n",
    "df_ngl_hist['Propane at Mont Belvieu (USD/bbl)'] = df_ngl_hist['Propane at Mont Belvieu (US cents/gal)'] * gal_bbl_conv * 0.01\n",
    "df_ngl_hist['Butane at Mont Belvieu (USD/bbl)'] = df_ngl_hist['Butane at Mont Belvieu (US cents/gal)'] * gal_bbl_conv * 0.01\n",
    "\n",
    "#cleanup header\n",
    "df_ngl_hist.columns = df_ngl_hist.columns.droplevel(-1)\n",
    "\n",
    "df_ngl_hist.tail()\n",
    "\n",
    "#Excel Output\n",
    "df_ngl_hist.to_excel('NGL History_Daily.xlsx', sheet_name='Daily NGL')"
   ]
  },
  {
   "cell_type": "markdown",
   "id": "4174c1fd",
   "metadata": {},
   "source": [
    "## FX Historial Rates"
   ]
  },
  {
   "cell_type": "code",
   "execution_count": 5,
   "id": "6cd0b659",
   "metadata": {
    "scrolled": true
   },
   "outputs": [
    {
     "data": {
      "text/html": [
       "<div>\n",
       "<style scoped>\n",
       "    .dataframe tbody tr th:only-of-type {\n",
       "        vertical-align: middle;\n",
       "    }\n",
       "\n",
       "    .dataframe tbody tr th {\n",
       "        vertical-align: top;\n",
       "    }\n",
       "\n",
       "    .dataframe thead th {\n",
       "        text-align: right;\n",
       "    }\n",
       "</style>\n",
       "<table border=\"1\" class=\"dataframe\">\n",
       "  <thead>\n",
       "    <tr style=\"text-align: right;\">\n",
       "      <th></th>\n",
       "      <th>CAD/USD</th>\n",
       "      <th>GBP/USD</th>\n",
       "      <th>EUR/USD</th>\n",
       "      <th>NOK/USD</th>\n",
       "      <th>AUD/USD</th>\n",
       "      <th>USD/JPY</th>\n",
       "    </tr>\n",
       "  </thead>\n",
       "  <tbody>\n",
       "    <tr>\n",
       "      <th>2021-10-25</th>\n",
       "      <td>0.8074</td>\n",
       "      <td>1.3767</td>\n",
       "      <td>1.1608</td>\n",
       "      <td>8.3538</td>\n",
       "      <td>0.7491</td>\n",
       "      <td>113.71</td>\n",
       "    </tr>\n",
       "    <tr>\n",
       "      <th>2021-10-26</th>\n",
       "      <td>0.8071</td>\n",
       "      <td>1.3767</td>\n",
       "      <td>1.1596</td>\n",
       "      <td>8.3656</td>\n",
       "      <td>0.7501</td>\n",
       "      <td>114.16</td>\n",
       "    </tr>\n",
       "    <tr>\n",
       "      <th>2021-10-27</th>\n",
       "      <td>0.8090</td>\n",
       "      <td>1.3745</td>\n",
       "      <td>1.1603</td>\n",
       "      <td>8.4207</td>\n",
       "      <td>0.7517</td>\n",
       "      <td>113.83</td>\n",
       "    </tr>\n",
       "    <tr>\n",
       "      <th>2021-10-28</th>\n",
       "      <td>0.8100</td>\n",
       "      <td>1.3790</td>\n",
       "      <td>1.1681</td>\n",
       "      <td>8.3316</td>\n",
       "      <td>0.7544</td>\n",
       "      <td>113.58</td>\n",
       "    </tr>\n",
       "    <tr>\n",
       "      <th>2021-10-29</th>\n",
       "      <td>0.8073</td>\n",
       "      <td>1.3682</td>\n",
       "      <td>1.1558</td>\n",
       "      <td>8.4437</td>\n",
       "      <td>0.7518</td>\n",
       "      <td>113.95</td>\n",
       "    </tr>\n",
       "  </tbody>\n",
       "</table>\n",
       "</div>"
      ],
      "text/plain": [
       "            CAD/USD  GBP/USD  EUR/USD  NOK/USD  AUD/USD  USD/JPY\n",
       "2021-10-25   0.8074   1.3767   1.1608   8.3538   0.7491   113.71\n",
       "2021-10-26   0.8071   1.3767   1.1596   8.3656   0.7501   114.16\n",
       "2021-10-27   0.8090   1.3745   1.1603   8.4207   0.7517   113.83\n",
       "2021-10-28   0.8100   1.3790   1.1681   8.3316   0.7544   113.58\n",
       "2021-10-29   0.8073   1.3682   1.1558   8.4437   0.7518   113.95"
      ]
     },
     "execution_count": 5,
     "metadata": {},
     "output_type": "execute_result"
    }
   ],
   "source": [
    "#define tickers\n",
    "headers_fx = {'CADUSD Curncy':'CAD/USD', 'GBPUSD Curncy':'GBP/USD', 'EURUSD Curncy':'EUR/USD', 'USDNOK Curncy':'NOK/USD', 'AUDUSD Curncy':'AUD/USD', 'USDJPY Curncy':'USD/JPY'}\n",
    "tickers_fx = ['CADUSD Curncy', 'GBPUSD Curncy', 'EURUSD Curncy', 'USDNOK Curncy', 'AUDUSD Curncy', 'USDJPY Curncy']\n",
    "               \n",
    "#pull date into a dataframe\n",
    "df_fx_hist = blp.bdh(tickers_fx, 'Px_Last', start_date, end_date)\n",
    "df_fx_hist.rename(columns=headers_fx, inplace=True)\n",
    "\n",
    "#cleanup header\n",
    "df_fx_hist.columns = df_fx_hist.columns.droplevel(-1)\n",
    "\n",
    "#Excel Output\n",
    "df_fx_hist.to_excel('FX History_Daily.xlsx', sheet_name='FX')\n",
    "\n",
    "df_fx_hist.tail(5)"
   ]
  },
  {
   "cell_type": "markdown",
   "id": "7650ec22",
   "metadata": {},
   "source": [
    "## Other Economic Indicators"
   ]
  },
  {
   "cell_type": "code",
   "execution_count": 6,
   "id": "242b0dea",
   "metadata": {},
   "outputs": [],
   "source": [
    "#define tickers\n",
    "headers_ec = {'USGGBE10 Index':'US Breakeven 10 Year', 'GCAN10YR Index':\"10 Year CAD Govn't Bond\"}\n",
    "tickers_ec = ['USGGBE10 Index', 'GCAN10YR Index']\n",
    "\n",
    "#pull date into a dataframe\n",
    "df_ec_hist = blp.bdh(tickers_ec, 'Px_Last', start_date, end_date)\n",
    "df_ec_hist.rename(columns=headers_ec, inplace=True)\n",
    "\n",
    "#cleanup header\n",
    "df_ec_hist.columns = df_ec_hist.columns.droplevel(-1)\n",
    "\n",
    "#Excel Output\n",
    "df_ec_hist.to_excel('Economic Indicators.xlsx', sheet_name='Economic Indicators')"
   ]
  },
  {
   "cell_type": "markdown",
   "id": "ba496d06",
   "metadata": {},
   "source": [
    "## Strip Price for Oil"
   ]
  },
  {
   "cell_type": "code",
   "execution_count": 7,
   "id": "741aba61",
   "metadata": {
    "scrolled": true
   },
   "outputs": [],
   "source": [
    "#define tickers\n",
    "headers_oil_strip = {'CL1 Comdty':'WTI Strip', 'CO1 Comdty':'Brent Strip', 'WCWA Index':'WCS Strip', 'LSW1 Index':'CLS Strip'}\n",
    "tickers_oil_strip = ['CL1 Comdty', 'CO1 Comdty', 'WCWA Index', 'LSW1 Index']\n"
   ]
  },
  {
   "cell_type": "code",
   "execution_count": 8,
   "id": "04b98f1b",
   "metadata": {
    "scrolled": true
   },
   "outputs": [],
   "source": [
    "#pull future chain for each index\n",
    "oil_strips = []\n",
    "\n",
    "for ticker in tickers_oil_strip:\n",
    "    s = blp.bds(ticker, flds='Fut_chain', Chain_date=end_date)\n",
    "    oil_strips.append(s)\n",
    "    \n",
    "oil_strips = pd.concat(oil_strips)"
   ]
  },
  {
   "cell_type": "code",
   "execution_count": 9,
   "id": "16c334a4",
   "metadata": {},
   "outputs": [],
   "source": [
    "#define a new function to pull expiry date for each contract\n",
    "def pull_expiry_date(df, end_date):\n",
    "    \n",
    "    df['ticker']=df.index\n",
    "    df2 = blp.bdp(df['security_description'], flds='Fut_month_yr')\n",
    "    df2['security_description'] = df2.index\n",
    "    df2 = pd.merge(df, df2, on='security_description', how='outer')\n",
    "    \n",
    "    cols = df2.columns.tolist()\n",
    "    cols = [cols[1], cols[0], cols[2]]\n",
    "    df2 = df2[cols]\n",
    "    df2['expiry_date'] = pd.to_datetime(df2['fut_month_yr'].str[0:-2] + '-01-20' + df2['fut_month_yr'].str[-2:])\n",
    "    return(df2)"
   ]
  },
  {
   "cell_type": "code",
   "execution_count": 10,
   "id": "b2bed76a",
   "metadata": {},
   "outputs": [
    {
     "data": {
      "text/html": [
       "<div>\n",
       "<style scoped>\n",
       "    .dataframe tbody tr th:only-of-type {\n",
       "        vertical-align: middle;\n",
       "    }\n",
       "\n",
       "    .dataframe tbody tr th {\n",
       "        vertical-align: top;\n",
       "    }\n",
       "\n",
       "    .dataframe thead th {\n",
       "        text-align: right;\n",
       "    }\n",
       "</style>\n",
       "<table border=\"1\" class=\"dataframe\">\n",
       "  <thead>\n",
       "    <tr style=\"text-align: right;\">\n",
       "      <th></th>\n",
       "      <th>ticker</th>\n",
       "      <th>security_description</th>\n",
       "      <th>fut_month_yr</th>\n",
       "      <th>expiry_date</th>\n",
       "    </tr>\n",
       "  </thead>\n",
       "  <tbody>\n",
       "    <tr>\n",
       "      <th>0</th>\n",
       "      <td>CL1 Comdty</td>\n",
       "      <td>CLZ1 Comdty</td>\n",
       "      <td>DEC 21</td>\n",
       "      <td>2021-12-01</td>\n",
       "    </tr>\n",
       "    <tr>\n",
       "      <th>1</th>\n",
       "      <td>CL1 Comdty</td>\n",
       "      <td>CLF2 Comdty</td>\n",
       "      <td>JAN 22</td>\n",
       "      <td>2022-01-01</td>\n",
       "    </tr>\n",
       "    <tr>\n",
       "      <th>2</th>\n",
       "      <td>CL1 Comdty</td>\n",
       "      <td>CLG2 Comdty</td>\n",
       "      <td>FEB 22</td>\n",
       "      <td>2022-02-01</td>\n",
       "    </tr>\n",
       "    <tr>\n",
       "      <th>3</th>\n",
       "      <td>CL1 Comdty</td>\n",
       "      <td>CLH2 Comdty</td>\n",
       "      <td>MAR 22</td>\n",
       "      <td>2022-03-01</td>\n",
       "    </tr>\n",
       "    <tr>\n",
       "      <th>4</th>\n",
       "      <td>CL1 Comdty</td>\n",
       "      <td>CLJ2 Comdty</td>\n",
       "      <td>APR 22</td>\n",
       "      <td>2022-04-01</td>\n",
       "    </tr>\n",
       "  </tbody>\n",
       "</table>\n",
       "</div>"
      ],
      "text/plain": [
       "       ticker security_description fut_month_yr expiry_date\n",
       "0  CL1 Comdty          CLZ1 Comdty       DEC 21  2021-12-01\n",
       "1  CL1 Comdty          CLF2 Comdty       JAN 22  2022-01-01\n",
       "2  CL1 Comdty          CLG2 Comdty       FEB 22  2022-02-01\n",
       "3  CL1 Comdty          CLH2 Comdty       MAR 22  2022-03-01\n",
       "4  CL1 Comdty          CLJ2 Comdty       APR 22  2022-04-01"
      ]
     },
     "execution_count": 10,
     "metadata": {},
     "output_type": "execute_result"
    }
   ],
   "source": [
    "#assign values to a new dataframe\n",
    "oil_strips_date = pull_expiry_date(oil_strips, end_date)\n",
    "oil_strips_date.head()"
   ]
  },
  {
   "cell_type": "code",
   "execution_count": 11,
   "id": "32fa180d",
   "metadata": {},
   "outputs": [],
   "source": [
    "#define a new function to pull last price for each contract\n",
    "def pull_last_price(df, end_date):\n",
    "    \n",
    "    df2 = blp.bdh(df['security_description'], 'px_last', end_date, end_date)\n",
    "    df2.columns = df2.columns.droplevel(-1)\n",
    "    df2 = df2.T\n",
    "    df2['security_description'] = df2.index\n",
    "    df2 = pd.merge(df, df2, on='security_description', how='outer')\n",
    "    cols = df2.columns.tolist()\n",
    "    cols[-1] = 'last price'\n",
    "    df2.columns = cols\n",
    "    return (df2)"
   ]
  },
  {
   "cell_type": "code",
   "execution_count": 12,
   "id": "3954b649",
   "metadata": {
    "scrolled": true
   },
   "outputs": [
    {
     "ename": "ValueError",
     "evalue": "Cannot remove 1 levels from an index with 1 levels: at least one level must be left.",
     "output_type": "error",
     "traceback": [
      "\u001b[1;31m---------------------------------------------------------------------------\u001b[0m",
      "\u001b[1;31mValueError\u001b[0m                                Traceback (most recent call last)",
      "\u001b[1;32m<ipython-input-12-1fc7fedbcb5d>\u001b[0m in \u001b[0;36m<module>\u001b[1;34m\u001b[0m\n\u001b[0;32m      1\u001b[0m \u001b[1;31m#assign values to a new dataframe\u001b[0m\u001b[1;33m\u001b[0m\u001b[1;33m\u001b[0m\u001b[1;33m\u001b[0m\u001b[0m\n\u001b[1;32m----> 2\u001b[1;33m \u001b[0moil_strips_date_price\u001b[0m \u001b[1;33m=\u001b[0m \u001b[0mpull_last_price\u001b[0m\u001b[1;33m(\u001b[0m\u001b[0moil_strips_date\u001b[0m\u001b[1;33m,\u001b[0m \u001b[0mend_date\u001b[0m\u001b[1;33m)\u001b[0m\u001b[1;33m\u001b[0m\u001b[1;33m\u001b[0m\u001b[0m\n\u001b[0m\u001b[0;32m      3\u001b[0m \u001b[0moil_strips_date_price\u001b[0m\u001b[1;33m.\u001b[0m\u001b[0mhead\u001b[0m\u001b[1;33m(\u001b[0m\u001b[1;33m)\u001b[0m\u001b[1;33m\u001b[0m\u001b[1;33m\u001b[0m\u001b[0m\n",
      "\u001b[1;32m<ipython-input-11-59eb309ddfd4>\u001b[0m in \u001b[0;36mpull_last_price\u001b[1;34m(df, end_date)\u001b[0m\n\u001b[0;32m      3\u001b[0m \u001b[1;33m\u001b[0m\u001b[0m\n\u001b[0;32m      4\u001b[0m     \u001b[0mdf2\u001b[0m \u001b[1;33m=\u001b[0m \u001b[0mblp\u001b[0m\u001b[1;33m.\u001b[0m\u001b[0mbdh\u001b[0m\u001b[1;33m(\u001b[0m\u001b[0mdf\u001b[0m\u001b[1;33m[\u001b[0m\u001b[1;34m'security_description'\u001b[0m\u001b[1;33m]\u001b[0m\u001b[1;33m,\u001b[0m \u001b[1;34m'px_last'\u001b[0m\u001b[1;33m,\u001b[0m \u001b[0mend_date\u001b[0m\u001b[1;33m,\u001b[0m \u001b[0mend_date\u001b[0m\u001b[1;33m)\u001b[0m\u001b[1;33m\u001b[0m\u001b[1;33m\u001b[0m\u001b[0m\n\u001b[1;32m----> 5\u001b[1;33m     \u001b[0mdf2\u001b[0m\u001b[1;33m.\u001b[0m\u001b[0mcolumns\u001b[0m \u001b[1;33m=\u001b[0m \u001b[0mdf2\u001b[0m\u001b[1;33m.\u001b[0m\u001b[0mcolumns\u001b[0m\u001b[1;33m.\u001b[0m\u001b[0mdroplevel\u001b[0m\u001b[1;33m(\u001b[0m\u001b[1;33m-\u001b[0m\u001b[1;36m1\u001b[0m\u001b[1;33m)\u001b[0m\u001b[1;33m\u001b[0m\u001b[1;33m\u001b[0m\u001b[0m\n\u001b[0m\u001b[0;32m      6\u001b[0m     \u001b[0mdf2\u001b[0m \u001b[1;33m=\u001b[0m \u001b[0mdf2\u001b[0m\u001b[1;33m.\u001b[0m\u001b[0mT\u001b[0m\u001b[1;33m\u001b[0m\u001b[1;33m\u001b[0m\u001b[0m\n\u001b[0;32m      7\u001b[0m     \u001b[0mdf2\u001b[0m\u001b[1;33m[\u001b[0m\u001b[1;34m'security_description'\u001b[0m\u001b[1;33m]\u001b[0m \u001b[1;33m=\u001b[0m \u001b[0mdf2\u001b[0m\u001b[1;33m.\u001b[0m\u001b[0mindex\u001b[0m\u001b[1;33m\u001b[0m\u001b[1;33m\u001b[0m\u001b[0m\n",
      "\u001b[1;32m~\\Anaconda3\\lib\\site-packages\\pandas\\core\\indexes\\base.py\u001b[0m in \u001b[0;36mdroplevel\u001b[1;34m(self, level)\u001b[0m\n\u001b[0;32m   1609\u001b[0m         \u001b[0mlevnums\u001b[0m \u001b[1;33m=\u001b[0m \u001b[0msorted\u001b[0m\u001b[1;33m(\u001b[0m\u001b[0mself\u001b[0m\u001b[1;33m.\u001b[0m\u001b[0m_get_level_number\u001b[0m\u001b[1;33m(\u001b[0m\u001b[0mlev\u001b[0m\u001b[1;33m)\u001b[0m \u001b[1;32mfor\u001b[0m \u001b[0mlev\u001b[0m \u001b[1;32min\u001b[0m \u001b[0mlevel\u001b[0m\u001b[1;33m)\u001b[0m\u001b[1;33m[\u001b[0m\u001b[1;33m:\u001b[0m\u001b[1;33m:\u001b[0m\u001b[1;33m-\u001b[0m\u001b[1;36m1\u001b[0m\u001b[1;33m]\u001b[0m\u001b[1;33m\u001b[0m\u001b[1;33m\u001b[0m\u001b[0m\n\u001b[0;32m   1610\u001b[0m \u001b[1;33m\u001b[0m\u001b[0m\n\u001b[1;32m-> 1611\u001b[1;33m         \u001b[1;32mreturn\u001b[0m \u001b[0mself\u001b[0m\u001b[1;33m.\u001b[0m\u001b[0m_drop_level_numbers\u001b[0m\u001b[1;33m(\u001b[0m\u001b[0mlevnums\u001b[0m\u001b[1;33m)\u001b[0m\u001b[1;33m\u001b[0m\u001b[1;33m\u001b[0m\u001b[0m\n\u001b[0m\u001b[0;32m   1612\u001b[0m \u001b[1;33m\u001b[0m\u001b[0m\n\u001b[0;32m   1613\u001b[0m     \u001b[1;32mdef\u001b[0m \u001b[0m_drop_level_numbers\u001b[0m\u001b[1;33m(\u001b[0m\u001b[0mself\u001b[0m\u001b[1;33m,\u001b[0m \u001b[0mlevnums\u001b[0m\u001b[1;33m:\u001b[0m \u001b[0mList\u001b[0m\u001b[1;33m[\u001b[0m\u001b[0mint\u001b[0m\u001b[1;33m]\u001b[0m\u001b[1;33m)\u001b[0m\u001b[1;33m:\u001b[0m\u001b[1;33m\u001b[0m\u001b[1;33m\u001b[0m\u001b[0m\n",
      "\u001b[1;32m~\\Anaconda3\\lib\\site-packages\\pandas\\core\\indexes\\base.py\u001b[0m in \u001b[0;36m_drop_level_numbers\u001b[1;34m(self, levnums)\u001b[0m\n\u001b[0;32m   1619\u001b[0m             \u001b[1;32mreturn\u001b[0m \u001b[0mself\u001b[0m\u001b[1;33m\u001b[0m\u001b[1;33m\u001b[0m\u001b[0m\n\u001b[0;32m   1620\u001b[0m         \u001b[1;32mif\u001b[0m \u001b[0mlen\u001b[0m\u001b[1;33m(\u001b[0m\u001b[0mlevnums\u001b[0m\u001b[1;33m)\u001b[0m \u001b[1;33m>=\u001b[0m \u001b[0mself\u001b[0m\u001b[1;33m.\u001b[0m\u001b[0mnlevels\u001b[0m\u001b[1;33m:\u001b[0m\u001b[1;33m\u001b[0m\u001b[1;33m\u001b[0m\u001b[0m\n\u001b[1;32m-> 1621\u001b[1;33m             raise ValueError(\n\u001b[0m\u001b[0;32m   1622\u001b[0m                 \u001b[1;34mf\"Cannot remove {len(levnums)} levels from an index with \"\u001b[0m\u001b[1;33m\u001b[0m\u001b[1;33m\u001b[0m\u001b[0m\n\u001b[0;32m   1623\u001b[0m                 \u001b[1;34mf\"{self.nlevels} levels: at least one level must be left.\"\u001b[0m\u001b[1;33m\u001b[0m\u001b[1;33m\u001b[0m\u001b[0m\n",
      "\u001b[1;31mValueError\u001b[0m: Cannot remove 1 levels from an index with 1 levels: at least one level must be left."
     ]
    }
   ],
   "source": [
    "#assign values to a new dataframe\n",
    "oil_strips_date_price = pull_last_price(oil_strips_date, end_date)\n",
    "oil_strips_date_price.head()"
   ]
  },
  {
   "cell_type": "code",
   "execution_count": null,
   "id": "7a233527",
   "metadata": {},
   "outputs": [],
   "source": [
    "#Excel Output\n",
    "oil_strips_date_price.to_excel('Oil_Strips.xlsx', sheet_name='Oil Strips')"
   ]
  },
  {
   "cell_type": "markdown",
   "id": "fafca308",
   "metadata": {},
   "source": [
    "## Strip Price for Gas"
   ]
  },
  {
   "cell_type": "code",
   "execution_count": null,
   "id": "57bdc1c0",
   "metadata": {},
   "outputs": [],
   "source": [
    "#define tickers\n",
    "headers_gas_strip = {'NG1 Comdty':'Henry Hub (USD/MMbtu)', 'FN1 Comdty':'NBP (GBP/therm)', 'TMR1 Comdty':'TTF (USD/MMbtu)'}\n",
    "tickers_gas_strip = ['NG1 Comdty', 'FN1 Comdty','TMR1 Comdty', 'JKL11 Comdty']"
   ]
  },
  {
   "cell_type": "code",
   "execution_count": null,
   "id": "7619efba",
   "metadata": {},
   "outputs": [],
   "source": [
    "#pull future chain for each index\n",
    "gas_strips = []\n",
    "\n",
    "for ticker in tickers_gas_strip:\n",
    "    s = blp.bds(ticker, flds='Fut_chain', Chain_date=end_date)\n",
    "    gas_strips.append(s)\n",
    "    \n",
    "gas_strips = pd.concat(gas_strips)"
   ]
  },
  {
   "cell_type": "code",
   "execution_count": null,
   "id": "60b83444",
   "metadata": {
    "scrolled": true
   },
   "outputs": [],
   "source": [
    "#pull expiry date for each contract\n",
    "gas_strips_date = pull_expiry_date(gas_strips, end_date)\n",
    "gas_strips_date.head()"
   ]
  },
  {
   "cell_type": "code",
   "execution_count": null,
   "id": "a42bcf76",
   "metadata": {
    "scrolled": false
   },
   "outputs": [],
   "source": [
    "#pull last price for each contract\n",
    "gas_strips_date_price = pull_last_price(gas_strips_date, end_date)\n",
    "gas_strips_date_price.tail()"
   ]
  },
  {
   "cell_type": "code",
   "execution_count": null,
   "id": "b083b363",
   "metadata": {},
   "outputs": [],
   "source": [
    "#pull AECO strips from Bloomberg\n",
    "N = 50\n",
    "\n",
    "aeco_strips = pd.DataFrame({'number' : range(1, N + 1 ,1)})\n",
    "aeco_strips['security_description'] = 'FFACM' + aeco_strips['number'].astype(str) + ' Index'\n",
    "aeco_strips = aeco_strips.drop('number', 1)"
   ]
  },
  {
   "cell_type": "code",
   "execution_count": null,
   "id": "b56375fb",
   "metadata": {},
   "outputs": [],
   "source": [
    "#define a new function to pull expiry date for each contract (AECO)\n",
    "def pull_expiry_date_aeco(df, end_date):\n",
    "    \n",
    "    df2 = blp.bdp(df['security_description'], flds='Fut_month_yr')\n",
    "    df2['security_description'] = df2.index\n",
    "    df2 = pd.merge(df, df2, on='security_description', how='outer')\n",
    "    \n",
    "    df2['expiry_date'] = pd.to_datetime(df2['fut_month_yr'].str[0:-2] + '-01-20' + df2['fut_month_yr'].str[-2:])\n",
    "    return(df2)"
   ]
  },
  {
   "cell_type": "code",
   "execution_count": null,
   "id": "9fd28e5e",
   "metadata": {
    "scrolled": true
   },
   "outputs": [],
   "source": [
    "#pull expiry date for each contract\n",
    "aeco_strips_date = pull_expiry_date_aeco(aeco_strips, end_date)\n",
    "aeco_strips_date.head()"
   ]
  },
  {
   "cell_type": "code",
   "execution_count": null,
   "id": "72d43d8e",
   "metadata": {},
   "outputs": [],
   "source": [
    "#assign values to a new dataframe\n",
    "aeco_strips_date_price = pull_last_price(aeco_strips_date, end_date)\n",
    "aeco_strips_date_price.head()"
   ]
  },
  {
   "cell_type": "code",
   "execution_count": null,
   "id": "638a6f08",
   "metadata": {},
   "outputs": [],
   "source": [
    "#add ticker column\n",
    "aeco_strips_date_price['ticker'] = 'AECO Index'\n",
    "\n",
    "#rearrange columns\n",
    "cols = aeco_strips_date_price.columns.tolist()\n",
    "cols = [cols[-1]] + cols[:-1]\n",
    "aeco_strips_date_price = aeco_strips_date_price[cols]\n",
    "\n",
    "#merge with the other gas trips dataframe\n",
    "gas_strips_date_price = gas_strips_date_price.append(aeco_strips_date_price, ignore_index=True)\n",
    "gas_strips_date_price.tail()"
   ]
  },
  {
   "cell_type": "code",
   "execution_count": null,
   "id": "ef75c186",
   "metadata": {},
   "outputs": [],
   "source": [
    "#Excel Output\n",
    "gas_strips_date_price.to_excel('Gas_Strips.xlsx', sheet_name='Gas Strips')"
   ]
  },
  {
   "cell_type": "markdown",
   "id": "ac09e0db",
   "metadata": {},
   "source": [
    "## Strip for FX"
   ]
  },
  {
   "cell_type": "code",
   "execution_count": null,
   "id": "a340c9df",
   "metadata": {},
   "outputs": [],
   "source": [
    "#define tickers\n",
    "headers_fx_strip = {'CDA Curncy':'CAD/USD', 'GUA Curncy':'GBP/USD', 'EC1 Curncy':'EUR/USD', 'KNTA':'NOK/USD', 'WASA Curncy':'AUD/USD', 'IUSA Curncy':'USD/JPY'}\n",
    "tickers_fx_strip = ['CDA Curncy', 'GUA Curncy', 'EC1 Curncy', 'KNTA Curncy', 'WASA Curncy', 'IUSA Curncy']"
   ]
  },
  {
   "cell_type": "code",
   "execution_count": null,
   "id": "49f1d321",
   "metadata": {},
   "outputs": [],
   "source": [
    "#pull future chain for each index\n",
    "fx_strips = []\n",
    "\n",
    "for ticker in tickers_fx_strip:\n",
    "    s = blp.bds(ticker, flds='Fut_chain', Chain_date=end_date)\n",
    "    fx_strips.append(s)\n",
    "    \n",
    "fx_strips = pd.concat(fx_strips)"
   ]
  },
  {
   "cell_type": "code",
   "execution_count": null,
   "id": "4771a327",
   "metadata": {},
   "outputs": [],
   "source": [
    "#pull expiry date for each contract\n",
    "fx_strips_date = pull_expiry_date(fx_strips, end_date)\n",
    "fx_strips_date.tail()"
   ]
  },
  {
   "cell_type": "code",
   "execution_count": null,
   "id": "0366b4f9",
   "metadata": {
    "scrolled": true
   },
   "outputs": [],
   "source": [
    "#pull last price for each contract\n",
    "fx_strips_date_price = pull_last_price(fx_strips_date, end_date)\n",
    "fx_strips_date_price.tail()"
   ]
  },
  {
   "cell_type": "code",
   "execution_count": null,
   "id": "12e34830",
   "metadata": {},
   "outputs": [],
   "source": [
    "#Excel Output\n",
    "fx_strips_date_price.to_excel('FX_Strips.xlsx', sheet_name='FX Strips')"
   ]
  },
  {
   "cell_type": "markdown",
   "id": "e246b124",
   "metadata": {},
   "source": [
    "## EIA"
   ]
  },
  {
   "cell_type": "code",
   "execution_count": null,
   "id": "386cc30d",
   "metadata": {},
   "outputs": [],
   "source": [
    "#import libraries\n",
    "import pandas as pd\n",
    "import requests\n",
    "import matplotlib.pyplot as plt\n",
    "import numpy as np\n",
    "from datetime import date\n",
    "import matplotlib.ticker as ticker"
   ]
  },
  {
   "cell_type": "code",
   "execution_count": null,
   "id": "65d13ed0",
   "metadata": {},
   "outputs": [],
   "source": [
    "# API Key from EIA\n",
    "api_key = '213c522a043d6750bf3c558833bf0bb7'"
   ]
  },
  {
   "cell_type": "code",
   "execution_count": null,
   "id": "cc479966",
   "metadata": {},
   "outputs": [],
   "source": [
    "# PADD Names to Label Columns\n",
    "# Change to whatever column labels you want to use.\n",
    "PADD_NAMES = ['Crude Oil Stocks (MMbbl)', 'Crude Oil Production - US (Mbpd)', 'Crude Oil Production - OPEC Total (MMbpd)', 'Total Crude Oil Imports (Mbpd)', 'Total Crude Oil Imports from Canada (Mbpd)', 'Total Working Natural Gas in US Storage (MMcf)']\n",
    "# Enter all your Series IDs here separated by commas\n",
    "PADD_KEY = ['TOTAL.COSXPUS.M', 'TOTAL.PAPRPUS.M', 'STEO.COPR_OPEC.M', 'PET.MCRIMUS2.M', 'PET.MCRIMUSCA2.M', 'NG.N5020US2.M']\n",
    "# Initialize list - this is the final list that you will store all the data from the json pull. Then you will use this list to concat into a pandas dataframe. \n",
    "final_data = []"
   ]
  },
  {
   "cell_type": "code",
   "execution_count": null,
   "id": "974b4141",
   "metadata": {},
   "outputs": [],
   "source": [
    "# Pull in data via EIA API\n",
    "for i in range(len(PADD_KEY)):\n",
    "    url = 'http://api.eia.gov/series/?api_key=' + api_key + '&series_id=' + PADD_KEY[i]\n",
    "    r = requests.get(url)\n",
    "    json_data = r.json()\n",
    "    \n",
    "    if r.status_code == 200:\n",
    "        print('Success!')\n",
    "    else:\n",
    "        print('Error')\n",
    "    \n",
    "    df = pd.DataFrame(json_data.get('series')[0].get('data'),\n",
    "                      columns = ['Date', PADD_NAMES[i]])\n",
    "    df.set_index('Date', drop=True, inplace=True)\n",
    "    final_data.append(df)"
   ]
  },
  {
   "cell_type": "code",
   "execution_count": null,
   "id": "4057178d",
   "metadata": {},
   "outputs": [],
   "source": [
    "# Combine all the data into one dataframe\n",
    "crude = pd.concat(final_data, axis=1)\n",
    "# Create date as datetype datatype\n",
    "crude['Year'] = crude.index.astype(str).str[:4]\n",
    "crude['Month'] = crude.index.astype(str).str[4:]\n",
    "crude['Day'] = 1\n",
    "crude['Date'] = pd.to_datetime(crude[['Year','Month','Day']])\n",
    "crude.set_index('Date',drop=True,inplace=True)\n",
    "crude.sort_index(inplace=True)\n",
    "crude = crude[start_date:end_date]\n",
    "#crude = crude.iloc[:,:5]"
   ]
  },
  {
   "cell_type": "code",
   "execution_count": null,
   "id": "e9c9ce88",
   "metadata": {},
   "outputs": [],
   "source": [
    "crude"
   ]
  },
  {
   "cell_type": "code",
   "execution_count": null,
   "id": "0ec64ed2",
   "metadata": {},
   "outputs": [],
   "source": [
    "#Excel Output\n",
    "crude.to_excel('EIA_Data.xlsx', sheet_name='EIA Data')"
   ]
  }
 ],
 "metadata": {
  "kernelspec": {
   "display_name": "Python 3",
   "language": "python",
   "name": "python3"
  },
  "language_info": {
   "codemirror_mode": {
    "name": "ipython",
    "version": 3
   },
   "file_extension": ".py",
   "mimetype": "text/x-python",
   "name": "python",
   "nbconvert_exporter": "python",
   "pygments_lexer": "ipython3",
   "version": "3.8.8"
  }
 },
 "nbformat": 4,
 "nbformat_minor": 5
}
